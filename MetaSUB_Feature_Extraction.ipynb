{
 "cells": [
  {
   "cell_type": "markdown",
   "metadata": {},
   "source": [
    "<h2> Data Preprocessing</h2>"
   ]
  },
  {
   "cell_type": "code",
   "execution_count": 127,
   "metadata": {},
   "outputs": [],
   "source": [
    "import pandas as pd"
   ]
  },
  {
   "cell_type": "code",
   "execution_count": 258,
   "metadata": {},
   "outputs": [],
   "source": [
    "df_3countries = pd.read_csv(\"raw_data/merged_abundance_table_3countries.txt\", sep=\"\\t\", header=None)\n",
    "df_all = pd.read_csv(\"raw_data/merged_abundance_table_ALL.txt\", sep=\"\\t\", header=None)\n",
    "df_clark = pd.read_csv(\"raw_data/human_counts.csv\")\n",
    "df_clark = df_clark.rename(columns={\"File\":\"ID\", \"Proportion of Human Reads\":\"Humans\"})"
   ]
  },
  {
   "cell_type": "code",
   "execution_count": 259,
   "metadata": {},
   "outputs": [],
   "source": [
    "df2 = df_3countries.T\n",
    "df2.columns = df2.iloc[0]\n",
    "#df2.reindex(df2.index.drop(0))\n",
    "df2 = df2.drop(df2.index[0])"
   ]
  },
  {
   "cell_type": "code",
   "execution_count": 274,
   "metadata": {},
   "outputs": [],
   "source": [
    "df3 = df_all.T\n",
    "df3.columns = df3.iloc[0]\n",
    "#df2.reindex(df2.index.drop(0))\n",
    "df3 = df3.drop(df3.index[0])"
   ]
  },
  {
   "cell_type": "code",
   "execution_count": 290,
   "metadata": {},
   "outputs": [],
   "source": [
    "result1 = df2.merge(df_clark, on='ID')\n",
    "result2 = df3.merge(df_clark, on='ID')"
   ]
  },
  {
   "cell_type": "code",
   "execution_count": 282,
   "metadata": {},
   "outputs": [],
   "source": [
    "def get_labels(df):\n",
    "    y_labels = []\n",
    "    for i in range(0, (df.shape[0])):\n",
    "        fname = df[\"ID\"].iloc[i].split(\"_\")\n",
    "        if fname[0][:3] == \"SRR\":\n",
    "            y_labels.append(\"NYC\")\n",
    "        else:\n",
    "            y_labels.append(fname[3].split(\"-\")[0])\n",
    "    \n",
    "    return y_labels"
   ]
  },
  {
   "cell_type": "code",
   "execution_count": 283,
   "metadata": {},
   "outputs": [],
   "source": [
    "def get_labels_3countries(df):\n",
    "    y_labels = []\n",
    "    for i in range(0, (df.shape[0])):\n",
    "        if df[\"ID\"].iloc[i] == \"NYC\" or df[\"ID\"].iloc[i] == \"SAC\":\n",
    "            y_labels.append(\"USA\")\n",
    "        elif df[\"ID\"].iloc[i] == \"HAM\" or df[\"ID\"].iloc[i] == \"AKL\":\n",
    "            y_labels.append(\"NZ\")\n",
    "        else:\n",
    "            y_labels.append(\"PXO\")\n",
    "            \n",
    "    return y_labels"
   ]
  },
  {
   "cell_type": "code",
   "execution_count": 291,
   "metadata": {},
   "outputs": [],
   "source": [
    "labels = get_labels(result1)\n",
    "result1['ID'] = labels\n",
    "country_labels = get_labels_3countries(result1)\n",
    "result1['ID'] = country_labels"
   ]
  },
  {
   "cell_type": "code",
   "execution_count": 292,
   "metadata": {},
   "outputs": [],
   "source": [
    "labels = get_labels(result2)\n",
    "result2['ID'] = labels"
   ]
  },
  {
   "cell_type": "code",
   "execution_count": 298,
   "metadata": {},
   "outputs": [],
   "source": [
    "result1.to_csv(\"data/3countries.csv\")\n",
    "result2.to_csv(\"data/ALL.csv\")"
   ]
  },
  {
   "cell_type": "code",
   "execution_count": 295,
   "metadata": {},
   "outputs": [
    {
     "data": {
      "text/plain": [
       "1483"
      ]
     },
     "execution_count": 295,
     "metadata": {},
     "output_type": "execute_result"
    }
   ],
   "source": [
    "len(list(result1.columns))"
   ]
  },
  {
   "cell_type": "code",
   "execution_count": null,
   "metadata": {},
   "outputs": [],
   "source": []
  }
 ],
 "metadata": {
  "kernelspec": {
   "display_name": "Python 3",
   "language": "python",
   "name": "python3"
  },
  "language_info": {
   "codemirror_mode": {
    "name": "ipython",
    "version": 3
   },
   "file_extension": ".py",
   "mimetype": "text/x-python",
   "name": "python",
   "nbconvert_exporter": "python",
   "pygments_lexer": "ipython3",
   "version": "3.6.5"
  }
 },
 "nbformat": 4,
 "nbformat_minor": 2
}
