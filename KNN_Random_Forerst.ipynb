{
 "cells": [
  {
   "cell_type": "code",
   "execution_count": 1,
   "metadata": {},
   "outputs": [],
   "source": [
    "import os\n",
    "import pandas as pd\n",
    "import numpy as np\n",
    "import matplotlib.pyplot as plt\n",
    "from sklearn.model_selection import train_test_split, cross_val_score, GridSearchCV\n",
    "from sklearn.metrics import precision_recall_fscore_support, precision_score, accuracy_score, f1_score\n",
    "from sklearn.decomposition import TruncatedSVD\n",
    "from sklearn.neighbors import KNeighborsClassifier\n",
    "from sklearn.ensemble import RandomForestClassifier"
   ]
  },
  {
   "cell_type": "code",
   "execution_count": 2,
   "metadata": {},
   "outputs": [],
   "source": [
    "df_3countries = pd.read_csv(\"data/3countries.csv\", index_col=0)\n",
    "df_all = pd.read_csv(\"data/ALL.csv\", index_col=0)"
   ]
  },
  {
   "cell_type": "code",
   "execution_count": 3,
   "metadata": {},
   "outputs": [
    {
     "data": {
      "text/html": [
       "<div>\n",
       "<style scoped>\n",
       "    .dataframe tbody tr th:only-of-type {\n",
       "        vertical-align: middle;\n",
       "    }\n",
       "\n",
       "    .dataframe tbody tr th {\n",
       "        vertical-align: top;\n",
       "    }\n",
       "\n",
       "    .dataframe thead th {\n",
       "        text-align: right;\n",
       "    }\n",
       "</style>\n",
       "<table border=\"1\" class=\"dataframe\">\n",
       "  <thead>\n",
       "    <tr style=\"text-align: right;\">\n",
       "      <th></th>\n",
       "      <th>ID</th>\n",
       "      <th>k__Archaea</th>\n",
       "      <th>k__Archaea|p__Euryarchaeota</th>\n",
       "      <th>k__Archaea|p__Euryarchaeota|c__Halobacteria</th>\n",
       "      <th>k__Archaea|p__Euryarchaeota|c__Halobacteria|o__Halobacteriales</th>\n",
       "      <th>k__Archaea|p__Euryarchaeota|c__Halobacteria|o__Halobacteriales|f__Halobacteriaceae</th>\n",
       "      <th>k__Archaea|p__Euryarchaeota|c__Halobacteria|o__Halobacteriales|f__Halobacteriaceae|g__Halococcus</th>\n",
       "      <th>k__Archaea|p__Euryarchaeota|c__Halobacteria|o__Halobacteriales|f__Halobacteriaceae|g__Halococcus|s__Halococcus_unclassified</th>\n",
       "      <th>k__Archaea|p__Euryarchaeota|c__Methanobacteria</th>\n",
       "      <th>k__Archaea|p__Euryarchaeota|c__Methanobacteria|o__Methanobacteriales</th>\n",
       "      <th>...</th>\n",
       "      <th>k__Viruses|p__Viruses_noname|c__Viruses_noname|o__Viruses_noname|f__Retroviridae|g__Retroviridae_noname</th>\n",
       "      <th>k__Viruses|p__Viruses_noname|c__Viruses_noname|o__Viruses_noname|f__Retroviridae|g__Retroviridae_noname|s__Avian_endogenous_retrovirus_EAV_HP</th>\n",
       "      <th>k__Viruses|p__Viruses_noname|c__Viruses_noname|o__Viruses_noname|f__Retroviridae|g__Retroviridae_noname|s__Avian_endogenous_retrovirus_EAV_HP|t__PRJNA15213</th>\n",
       "      <th>k__Viruses|p__Viruses_noname|c__Viruses_noname|o__Viruses_noname|f__Viruses_noname</th>\n",
       "      <th>k__Viruses|p__Viruses_noname|c__Viruses_noname|o__Viruses_noname|f__Viruses_noname|g__Viruses_noname</th>\n",
       "      <th>k__Viruses|p__Viruses_noname|c__Viruses_noname|o__Viruses_noname|f__Viruses_noname|g__Viruses_noname|s__Staphylococcus_phage_PT1028</th>\n",
       "      <th>k__Viruses|p__Viruses_noname|c__Viruses_noname|o__Viruses_noname|f__Viruses_noname|g__Viruses_noname|s__Staphylococcus_phage_PT1028|t__PRJNA15262</th>\n",
       "      <th>k__Viruses|p__Viruses_noname|c__Viruses_noname|o__Viruses_noname|f__Viruses_noname|g__Viruses_noname|s__Staphylococcus_phage_ROSA</th>\n",
       "      <th>k__Viruses|p__Viruses_noname|c__Viruses_noname|o__Viruses_noname|f__Viruses_noname|g__Viruses_noname|s__Staphylococcus_phage_ROSA|t__PRJNA15274</th>\n",
       "      <th>Humans</th>\n",
       "    </tr>\n",
       "  </thead>\n",
       "  <tbody>\n",
       "    <tr>\n",
       "      <th>0</th>\n",
       "      <td>AKL</td>\n",
       "      <td>0.0</td>\n",
       "      <td>0.0</td>\n",
       "      <td>0.0</td>\n",
       "      <td>0.0</td>\n",
       "      <td>0.0</td>\n",
       "      <td>0.0</td>\n",
       "      <td>0.0</td>\n",
       "      <td>0.0</td>\n",
       "      <td>0.0</td>\n",
       "      <td>...</td>\n",
       "      <td>0.0</td>\n",
       "      <td>0.0</td>\n",
       "      <td>0.0</td>\n",
       "      <td>0.0</td>\n",
       "      <td>0.0</td>\n",
       "      <td>0.0</td>\n",
       "      <td>0.0</td>\n",
       "      <td>0.0</td>\n",
       "      <td>0.0</td>\n",
       "      <td>0.000186</td>\n",
       "    </tr>\n",
       "    <tr>\n",
       "      <th>1</th>\n",
       "      <td>AKL</td>\n",
       "      <td>0.0</td>\n",
       "      <td>0.0</td>\n",
       "      <td>0.0</td>\n",
       "      <td>0.0</td>\n",
       "      <td>0.0</td>\n",
       "      <td>0.0</td>\n",
       "      <td>0.0</td>\n",
       "      <td>0.0</td>\n",
       "      <td>0.0</td>\n",
       "      <td>...</td>\n",
       "      <td>0.0</td>\n",
       "      <td>0.0</td>\n",
       "      <td>0.0</td>\n",
       "      <td>0.0</td>\n",
       "      <td>0.0</td>\n",
       "      <td>0.0</td>\n",
       "      <td>0.0</td>\n",
       "      <td>0.0</td>\n",
       "      <td>0.0</td>\n",
       "      <td>0.002511</td>\n",
       "    </tr>\n",
       "    <tr>\n",
       "      <th>2</th>\n",
       "      <td>AKL</td>\n",
       "      <td>0.0</td>\n",
       "      <td>0.0</td>\n",
       "      <td>0.0</td>\n",
       "      <td>0.0</td>\n",
       "      <td>0.0</td>\n",
       "      <td>0.0</td>\n",
       "      <td>0.0</td>\n",
       "      <td>0.0</td>\n",
       "      <td>0.0</td>\n",
       "      <td>...</td>\n",
       "      <td>0.0</td>\n",
       "      <td>0.0</td>\n",
       "      <td>0.0</td>\n",
       "      <td>0.0</td>\n",
       "      <td>0.0</td>\n",
       "      <td>0.0</td>\n",
       "      <td>0.0</td>\n",
       "      <td>0.0</td>\n",
       "      <td>0.0</td>\n",
       "      <td>0.002478</td>\n",
       "    </tr>\n",
       "    <tr>\n",
       "      <th>3</th>\n",
       "      <td>AKL</td>\n",
       "      <td>0.0</td>\n",
       "      <td>0.0</td>\n",
       "      <td>0.0</td>\n",
       "      <td>0.0</td>\n",
       "      <td>0.0</td>\n",
       "      <td>0.0</td>\n",
       "      <td>0.0</td>\n",
       "      <td>0.0</td>\n",
       "      <td>0.0</td>\n",
       "      <td>...</td>\n",
       "      <td>0.0</td>\n",
       "      <td>0.0</td>\n",
       "      <td>0.0</td>\n",
       "      <td>0.0</td>\n",
       "      <td>0.0</td>\n",
       "      <td>0.0</td>\n",
       "      <td>0.0</td>\n",
       "      <td>0.0</td>\n",
       "      <td>0.0</td>\n",
       "      <td>0.000140</td>\n",
       "    </tr>\n",
       "    <tr>\n",
       "      <th>4</th>\n",
       "      <td>AKL</td>\n",
       "      <td>0.0</td>\n",
       "      <td>0.0</td>\n",
       "      <td>0.0</td>\n",
       "      <td>0.0</td>\n",
       "      <td>0.0</td>\n",
       "      <td>0.0</td>\n",
       "      <td>0.0</td>\n",
       "      <td>0.0</td>\n",
       "      <td>0.0</td>\n",
       "      <td>...</td>\n",
       "      <td>0.0</td>\n",
       "      <td>0.0</td>\n",
       "      <td>0.0</td>\n",
       "      <td>0.0</td>\n",
       "      <td>0.0</td>\n",
       "      <td>0.0</td>\n",
       "      <td>0.0</td>\n",
       "      <td>0.0</td>\n",
       "      <td>0.0</td>\n",
       "      <td>0.000140</td>\n",
       "    </tr>\n",
       "  </tbody>\n",
       "</table>\n",
       "<p>5 rows × 1905 columns</p>\n",
       "</div>"
      ],
      "text/plain": [
       "    ID  k__Archaea  k__Archaea|p__Euryarchaeota  \\\n",
       "0  AKL         0.0                          0.0   \n",
       "1  AKL         0.0                          0.0   \n",
       "2  AKL         0.0                          0.0   \n",
       "3  AKL         0.0                          0.0   \n",
       "4  AKL         0.0                          0.0   \n",
       "\n",
       "   k__Archaea|p__Euryarchaeota|c__Halobacteria  \\\n",
       "0                                          0.0   \n",
       "1                                          0.0   \n",
       "2                                          0.0   \n",
       "3                                          0.0   \n",
       "4                                          0.0   \n",
       "\n",
       "   k__Archaea|p__Euryarchaeota|c__Halobacteria|o__Halobacteriales  \\\n",
       "0                                                0.0                \n",
       "1                                                0.0                \n",
       "2                                                0.0                \n",
       "3                                                0.0                \n",
       "4                                                0.0                \n",
       "\n",
       "   k__Archaea|p__Euryarchaeota|c__Halobacteria|o__Halobacteriales|f__Halobacteriaceae  \\\n",
       "0                                                0.0                                    \n",
       "1                                                0.0                                    \n",
       "2                                                0.0                                    \n",
       "3                                                0.0                                    \n",
       "4                                                0.0                                    \n",
       "\n",
       "   k__Archaea|p__Euryarchaeota|c__Halobacteria|o__Halobacteriales|f__Halobacteriaceae|g__Halococcus  \\\n",
       "0                                                0.0                                                  \n",
       "1                                                0.0                                                  \n",
       "2                                                0.0                                                  \n",
       "3                                                0.0                                                  \n",
       "4                                                0.0                                                  \n",
       "\n",
       "   k__Archaea|p__Euryarchaeota|c__Halobacteria|o__Halobacteriales|f__Halobacteriaceae|g__Halococcus|s__Halococcus_unclassified  \\\n",
       "0                                                0.0                                                                             \n",
       "1                                                0.0                                                                             \n",
       "2                                                0.0                                                                             \n",
       "3                                                0.0                                                                             \n",
       "4                                                0.0                                                                             \n",
       "\n",
       "   k__Archaea|p__Euryarchaeota|c__Methanobacteria  \\\n",
       "0                                             0.0   \n",
       "1                                             0.0   \n",
       "2                                             0.0   \n",
       "3                                             0.0   \n",
       "4                                             0.0   \n",
       "\n",
       "   k__Archaea|p__Euryarchaeota|c__Methanobacteria|o__Methanobacteriales  \\\n",
       "0                                                0.0                      \n",
       "1                                                0.0                      \n",
       "2                                                0.0                      \n",
       "3                                                0.0                      \n",
       "4                                                0.0                      \n",
       "\n",
       "     ...     \\\n",
       "0    ...      \n",
       "1    ...      \n",
       "2    ...      \n",
       "3    ...      \n",
       "4    ...      \n",
       "\n",
       "   k__Viruses|p__Viruses_noname|c__Viruses_noname|o__Viruses_noname|f__Retroviridae|g__Retroviridae_noname  \\\n",
       "0                                                0.0                                                         \n",
       "1                                                0.0                                                         \n",
       "2                                                0.0                                                         \n",
       "3                                                0.0                                                         \n",
       "4                                                0.0                                                         \n",
       "\n",
       "   k__Viruses|p__Viruses_noname|c__Viruses_noname|o__Viruses_noname|f__Retroviridae|g__Retroviridae_noname|s__Avian_endogenous_retrovirus_EAV_HP  \\\n",
       "0                                                0.0                                                                                               \n",
       "1                                                0.0                                                                                               \n",
       "2                                                0.0                                                                                               \n",
       "3                                                0.0                                                                                               \n",
       "4                                                0.0                                                                                               \n",
       "\n",
       "   k__Viruses|p__Viruses_noname|c__Viruses_noname|o__Viruses_noname|f__Retroviridae|g__Retroviridae_noname|s__Avian_endogenous_retrovirus_EAV_HP|t__PRJNA15213  \\\n",
       "0                                                0.0                                                                                                             \n",
       "1                                                0.0                                                                                                             \n",
       "2                                                0.0                                                                                                             \n",
       "3                                                0.0                                                                                                             \n",
       "4                                                0.0                                                                                                             \n",
       "\n",
       "   k__Viruses|p__Viruses_noname|c__Viruses_noname|o__Viruses_noname|f__Viruses_noname  \\\n",
       "0                                                0.0                                    \n",
       "1                                                0.0                                    \n",
       "2                                                0.0                                    \n",
       "3                                                0.0                                    \n",
       "4                                                0.0                                    \n",
       "\n",
       "   k__Viruses|p__Viruses_noname|c__Viruses_noname|o__Viruses_noname|f__Viruses_noname|g__Viruses_noname  \\\n",
       "0                                                0.0                                                      \n",
       "1                                                0.0                                                      \n",
       "2                                                0.0                                                      \n",
       "3                                                0.0                                                      \n",
       "4                                                0.0                                                      \n",
       "\n",
       "   k__Viruses|p__Viruses_noname|c__Viruses_noname|o__Viruses_noname|f__Viruses_noname|g__Viruses_noname|s__Staphylococcus_phage_PT1028  \\\n",
       "0                                                0.0                                                                                     \n",
       "1                                                0.0                                                                                     \n",
       "2                                                0.0                                                                                     \n",
       "3                                                0.0                                                                                     \n",
       "4                                                0.0                                                                                     \n",
       "\n",
       "   k__Viruses|p__Viruses_noname|c__Viruses_noname|o__Viruses_noname|f__Viruses_noname|g__Viruses_noname|s__Staphylococcus_phage_PT1028|t__PRJNA15262  \\\n",
       "0                                                0.0                                                                                                   \n",
       "1                                                0.0                                                                                                   \n",
       "2                                                0.0                                                                                                   \n",
       "3                                                0.0                                                                                                   \n",
       "4                                                0.0                                                                                                   \n",
       "\n",
       "   k__Viruses|p__Viruses_noname|c__Viruses_noname|o__Viruses_noname|f__Viruses_noname|g__Viruses_noname|s__Staphylococcus_phage_ROSA  \\\n",
       "0                                                0.0                                                                                   \n",
       "1                                                0.0                                                                                   \n",
       "2                                                0.0                                                                                   \n",
       "3                                                0.0                                                                                   \n",
       "4                                                0.0                                                                                   \n",
       "\n",
       "   k__Viruses|p__Viruses_noname|c__Viruses_noname|o__Viruses_noname|f__Viruses_noname|g__Viruses_noname|s__Staphylococcus_phage_ROSA|t__PRJNA15274  \\\n",
       "0                                                0.0                                                                                                 \n",
       "1                                                0.0                                                                                                 \n",
       "2                                                0.0                                                                                                 \n",
       "3                                                0.0                                                                                                 \n",
       "4                                                0.0                                                                                                 \n",
       "\n",
       "     Humans  \n",
       "0  0.000186  \n",
       "1  0.002511  \n",
       "2  0.002478  \n",
       "3  0.000140  \n",
       "4  0.000140  \n",
       "\n",
       "[5 rows x 1905 columns]"
      ]
     },
     "execution_count": 3,
     "metadata": {},
     "output_type": "execute_result"
    }
   ],
   "source": [
    "df_all.head()"
   ]
  },
  {
   "cell_type": "code",
   "execution_count": 4,
   "metadata": {},
   "outputs": [],
   "source": [
    "def get_species_level(columns):\n",
    "    features = ['ID']\n",
    "    for feature in columns:\n",
    "        if len(feature.split('|s__')) > 1:\n",
    "            if len(feature.split('|s__')[1].split('|')) == 1:\n",
    "                features.extend([feature]) \n",
    "    print(len(features))\n",
    "    return features"
   ]
  },
  {
   "cell_type": "code",
   "execution_count": 5,
   "metadata": {},
   "outputs": [],
   "source": [
    "def get_genus_level(columns):\n",
    "    features = ['ID']\n",
    "    for feature in columns:\n",
    "        if len(feature.split('|g__')) > 1:\n",
    "            if len(feature.split('|g__')[1].split('|')) == 1:\n",
    "                features.extend([feature]) \n",
    "    print(len(features))\n",
    "    return features"
   ]
  },
  {
   "cell_type": "code",
   "execution_count": 6,
   "metadata": {},
   "outputs": [],
   "source": [
    "columns_3countries = df_3countries.columns\n",
    "columns_all = df_all.columns"
   ]
  },
  {
   "cell_type": "code",
   "execution_count": 7,
   "metadata": {},
   "outputs": [
    {
     "name": "stdout",
     "output_type": "stream",
     "text": [
      "737\n",
      "313\n"
     ]
    }
   ],
   "source": [
    "all_features = columns_all\n",
    "all_species_features = get_species_level(columns_all)\n",
    "all_species_features.extend([\"Humans\"])\n",
    "all_genus_features = get_genus_level(columns_all)\n",
    "all_genus_features.extend([\"Humans\"])"
   ]
  },
  {
   "cell_type": "code",
   "execution_count": 8,
   "metadata": {},
   "outputs": [
    {
     "name": "stdout",
     "output_type": "stream",
     "text": [
      "563\n",
      "250\n"
     ]
    }
   ],
   "source": [
    "countries_features = columns_3countries\n",
    "countries_species_features = get_species_level(columns_3countries)\n",
    "countries_species_features.extend([\"Humans\"])\n",
    "countries_genus_features = get_genus_level(columns_3countries)\n",
    "countries_genus_features.extend([\"Humans\"])"
   ]
  },
  {
   "cell_type": "code",
   "execution_count": 9,
   "metadata": {},
   "outputs": [],
   "source": [
    "df_all_all = df_all.filter(all_features)\n",
    "df_all_species = df_all.filter(all_species_features)\n",
    "df_all_genus = df_all.filter(all_genus_features)"
   ]
  },
  {
   "cell_type": "code",
   "execution_count": 10,
   "metadata": {},
   "outputs": [],
   "source": [
    "df_3countries_all = df_3countries.filter(countries_features)\n",
    "df_3countries_species = df_3countries.filter(countries_species_features)\n",
    "df_3countries_genus = df_3countries.filter(countries_genus_features)"
   ]
  },
  {
   "cell_type": "code",
   "execution_count": 11,
   "metadata": {},
   "outputs": [],
   "source": [
    "def getXY(df):\n",
    "    X = df.iloc[:,1:]\n",
    "    y = df.iloc[:,0]\n",
    "    return X, y"
   ]
  },
  {
   "cell_type": "code",
   "execution_count": 12,
   "metadata": {},
   "outputs": [],
   "source": [
    "X_all_all, y_all_all = getXY(df_all_all)\n",
    "X_all_species, y_all_species = getXY(df_all_species)\n",
    "X_all_genus, y_all_genus = getXY(df_all_genus)"
   ]
  },
  {
   "cell_type": "code",
   "execution_count": 13,
   "metadata": {},
   "outputs": [],
   "source": [
    "X_3countries_all, y_3countries_all = getXY(df_3countries_all)\n",
    "X_3countries_species, y_3countries_species = getXY(df_3countries_species)\n",
    "X_3countries_genus, y_3countries_genus = getXY(df_3countries_genus)"
   ]
  },
  {
   "cell_type": "markdown",
   "metadata": {},
   "source": [
    "<h2>KNN</h2>"
   ]
  },
  {
   "cell_type": "markdown",
   "metadata": {},
   "source": [
    "<h3>Cross validation</h3>"
   ]
  },
  {
   "cell_type": "code",
   "execution_count": 14,
   "metadata": {},
   "outputs": [],
   "source": [
    "def cross_validation(X_train, y_train):\n",
    "    KList = list(range(1,50))\n",
    "    neighbors = list(filter(lambda x: x % 2 != 0, KList))\n",
    "    cv_scores = []\n",
    "\n",
    "    for k in neighbors:\n",
    "        knn = KNeighborsClassifier(n_neighbors=k)\n",
    "        scores = cross_val_score(knn, X_train, y_train, cv=10, scoring='accuracy')\n",
    "        cv_scores.append(scores.mean())\n",
    "\n",
    "    # misclassification error\n",
    "    MSE = [1 - x for x in cv_scores]\n",
    "\n",
    "    # determining best k\n",
    "    optimal_k = neighbors[MSE.index(min(MSE))]\n",
    "    print(\"The optimal number of neighbors is\", optimal_k)\n",
    "\n",
    "    plt.plot(neighbors, MSE)\n",
    "    plt.xlabel('Number of Neighbors K')\n",
    "    plt.ylabel('Misclassification Error')\n",
    "    plt.title(\"The optimal number of neighbors is \"+ str(optimal_k))\n",
    "    plt.show()"
   ]
  },
  {
   "cell_type": "code",
   "execution_count": 15,
   "metadata": {},
   "outputs": [
    {
     "name": "stdout",
     "output_type": "stream",
     "text": [
      "The optimal number of neighbors is 1\n"
     ]
    },
    {
     "data": {
      "image/png": "[encoded data removed]",
      "text/plain": [
       "<matplotlib.figure.Figure at 0x10e0fd438>"
      ]
     },
     "metadata": {},
     "output_type": "display_data"
    }
   ],
   "source": [
    "X_train, X_test, y_train, y_test = train_test_split(X_all_all, y_all_all, test_size=0.33, random_state=42, shuffle=True)\n",
    "cross_validation(X_train, y_train)"
   ]
  },
  {
   "cell_type": "markdown",
   "metadata": {},
   "source": [
    "<h3>KNN - all 7 cities</h3>"
   ]
  },
  {
   "cell_type": "code",
   "execution_count": 16,
   "metadata": {},
   "outputs": [
    {
     "name": "stdout",
     "output_type": "stream",
     "text": [
      "(0.76103015547765418, 0.7289719626168224, 0.7367971330194647, None)\n",
      "0.761030155478\n",
      "0.728971962617\n",
      "0.736797133019\n"
     ]
    }
   ],
   "source": [
    "X_train, X_test, y_train, y_test = train_test_split(X_all_all, y_all_all, test_size=0.33, random_state=42, shuffle=True)\n",
    "knn = KNeighborsClassifier(n_neighbors=1)\n",
    "knn.fit(X_train, y_train) \n",
    "preds = knn.predict(X_test)\n",
    "print(precision_recall_fscore_support(y_test, preds, average='weighted'))\n",
    "print(precision_score(y_test, preds, average='weighted'))\n",
    "print(accuracy_score(y_test, preds))\n",
    "print(f1_score(y_test, preds, average='weighted'))"
   ]
  },
  {
   "cell_type": "code",
   "execution_count": 17,
   "metadata": {},
   "outputs": [
    {
     "name": "stdout",
     "output_type": "stream",
     "text": [
      "(0.78107386137391044, 0.76635514018691586, 0.7690220047514561, None)\n",
      "0.781073861374\n",
      "0.766355140187\n",
      "0.769022004751\n"
     ]
    }
   ],
   "source": [
    "X_train, X_test, y_train, y_test = train_test_split(X_all_species, y_all_species, test_size=0.33, random_state=42, shuffle=True)\n",
    "knn = KNeighborsClassifier(n_neighbors=1)\n",
    "knn.fit(X_train, y_train) \n",
    "preds = knn.predict(X_test)\n",
    "print(precision_recall_fscore_support(y_test, preds, average='weighted'))\n",
    "print(precision_score(y_test, preds, average='weighted'))\n",
    "print(accuracy_score(y_test, preds))\n",
    "print(f1_score(y_test, preds, average='weighted'))"
   ]
  },
  {
   "cell_type": "code",
   "execution_count": 18,
   "metadata": {},
   "outputs": [
    {
     "name": "stdout",
     "output_type": "stream",
     "text": [
      "(0.80161685766750579, 0.7289719626168224, 0.72911787021161556, None)\n",
      "0.801616857668\n",
      "0.728971962617\n",
      "0.729117870212\n"
     ]
    }
   ],
   "source": [
    "X_train, X_test, y_train, y_test = train_test_split(X_all_genus, y_all_genus, test_size=0.33, random_state=42, shuffle=True)\n",
    "knn = KNeighborsClassifier(n_neighbors=1)\n",
    "knn.fit(X_train, y_train) \n",
    "preds = knn.predict(X_test)\n",
    "print(precision_recall_fscore_support(y_test, preds, average='weighted'))\n",
    "print(precision_score(y_test, preds, average='weighted'))\n",
    "print(accuracy_score(y_test, preds))\n",
    "print(f1_score(y_test, preds, average='weighted'))"
   ]
  },
  {
   "cell_type": "markdown",
   "metadata": {},
   "source": [
    "<h3>KNN - 3 countries</h3>"
   ]
  },
  {
   "cell_type": "code",
   "execution_count": 19,
   "metadata": {},
   "outputs": [
    {
     "name": "stdout",
     "output_type": "stream",
     "text": [
      "(0.90735964385400847, 0.89156626506024095, 0.89249017166184652, None)\n",
      "0.907359643854\n",
      "0.89156626506\n",
      "0.892490171662\n"
     ]
    }
   ],
   "source": [
    "X_train, X_test, y_train, y_test = train_test_split(X_3countries_all, y_3countries_all, test_size=0.33, random_state=42, shuffle=True)\n",
    "knn = KNeighborsClassifier(n_neighbors=1)\n",
    "knn.fit(X_train, y_train) \n",
    "preds = knn.predict(X_test)\n",
    "print(precision_recall_fscore_support(y_test, preds, average='weighted'))\n",
    "print(precision_score(y_test, preds, average='weighted'))\n",
    "print(accuracy_score(y_test, preds))\n",
    "print(f1_score(y_test, preds, average='weighted'))"
   ]
  },
  {
   "cell_type": "code",
   "execution_count": 20,
   "metadata": {},
   "outputs": [
    {
     "name": "stdout",
     "output_type": "stream",
     "text": [
      "(0.92789339174881347, 0.92771084337349397, 0.92683878370625361, None)\n",
      "0.927893391749\n",
      "0.927710843373\n",
      "0.926838783706\n"
     ]
    }
   ],
   "source": [
    "X_train, X_test, y_train, y_test = train_test_split(X_3countries_species, y_3countries_species, test_size=0.33, random_state=42, shuffle=True)\n",
    "knn = KNeighborsClassifier(n_neighbors=1)\n",
    "knn.fit(X_train, y_train) \n",
    "preds = knn.predict(X_test)\n",
    "print(precision_recall_fscore_support(y_test, preds, average='weighted'))\n",
    "print(precision_score(y_test, preds, average='weighted'))\n",
    "print(accuracy_score(y_test, preds))\n",
    "print(f1_score(y_test, preds, average='weighted'))"
   ]
  },
  {
   "cell_type": "code",
   "execution_count": 21,
   "metadata": {},
   "outputs": [
    {
     "name": "stdout",
     "output_type": "stream",
     "text": [
      "(0.91614075349015101, 0.91566265060240959, 0.91569082880133967, None)\n",
      "0.91614075349\n",
      "0.915662650602\n",
      "0.915690828801\n"
     ]
    }
   ],
   "source": [
    "X_train, X_test, y_train, y_test = train_test_split(X_3countries_genus, y_3countries_genus, test_size=0.33, random_state=42, shuffle=True)\n",
    "knn = KNeighborsClassifier(n_neighbors=1)\n",
    "knn.fit(X_train, y_train) \n",
    "preds = knn.predict(X_test)\n",
    "print(precision_recall_fscore_support(y_test, preds, average='weighted'))\n",
    "print(precision_score(y_test, preds, average='weighted'))\n",
    "print(accuracy_score(y_test, preds))\n",
    "print(f1_score(y_test, preds, average='weighted'))"
   ]
  },
  {
   "cell_type": "markdown",
   "metadata": {},
   "source": [
    "<h3>KNN - Cluster Visualization</h3>"
   ]
  },
  {
   "cell_type": "code",
   "execution_count": 22,
   "metadata": {},
   "outputs": [],
   "source": [
    "def plot_clusters(data, y, nc):\n",
    "    reduced_svd = TruncatedSVD(n_components=2, n_iter=7, random_state=42) #reduce to 2 dimensions\n",
    "    svd_data_reduced = reduced_svd.fit_transform(data)\n",
    "    \n",
    "    if nc == 7:\n",
    "        for i in range(0, svd_data_reduced.shape[0]):\n",
    "            if y.iloc[i] == \"AKL\":\n",
    "                c1 = plt.scatter(svd_data_reduced[i,0],svd_data_reduced[i,1],c='r', marker='+')\n",
    "            elif y.iloc[i] == \"HAM\":\n",
    "                c2 = plt.scatter(svd_data_reduced[i,0],svd_data_reduced[i,1],c='b', marker='+')\n",
    "            elif y.iloc[i] == \"SAC\":\n",
    "                c3 = plt.scatter(svd_data_reduced[i,0],svd_data_reduced[i,1],c='y', marker='o')\n",
    "            elif y.iloc[i] == \"NYC\":\n",
    "                c4 = plt.scatter(svd_data_reduced[i,0],svd_data_reduced[i,1],c='g', marker='o')\n",
    "            elif y.iloc[i] == \"SCL\":\n",
    "                c5 = plt.scatter(svd_data_reduced[i,0],svd_data_reduced[i,1],c='black', marker='*')\n",
    "            elif y.iloc[i] == \"PXO\":\n",
    "                c6 = plt.scatter(svd_data_reduced[i,0],svd_data_reduced[i,1],c='purple', marker='x')\n",
    "            else:\n",
    "                c7 = plt.scatter(svd_data_reduced[i,0],svd_data_reduced[i,1],c='cyan', marker='d')\n",
    "        plt.legend([c1, c2, c3, c4, c5, c6, c7], [\"AKL\", \"HAM\", \"SAC\", \"NYC\", \"SCL\", \"PXO\", \"OFA\"])\n",
    "        plt.title('7 cities')\n",
    "        plt.show()\n",
    "        \n",
    "    else:\n",
    "        for i in range(0, svd_data_reduced.shape[0]):\n",
    "            if y.iloc[i] == \"NZ\":\n",
    "                c1 = plt.scatter(svd_data_reduced[i,0],svd_data_reduced[i,1],c='r', marker='+')\n",
    "            elif y.iloc[i] == \"USA\":\n",
    "                c2 = plt.scatter(svd_data_reduced[i,0],svd_data_reduced[i,1],c='g', marker='o')\n",
    "            else:\n",
    "                c3 = plt.scatter(svd_data_reduced[i,0],svd_data_reduced[i,1],c='b', marker='*')\n",
    "        plt.legend([c1, c2, c3], ['NZ', 'USA', 'PXO'])\n",
    "        plt.title('3 countries')\n",
    "        plt.show()"
   ]
  },
  {
   "cell_type": "code",
   "execution_count": 23,
   "metadata": {},
   "outputs": [
    {
     "data": {
      "image/png": "[encoded data removed]",
      "text/plain": [
       "<matplotlib.figure.Figure at 0x117ec1dd8>"
      ]
     },
     "metadata": {},
     "output_type": "display_data"
    }
   ],
   "source": [
    "plot_clusters(X_all_all, y_all_all, 7)"
   ]
  },
  {
   "cell_type": "code",
   "execution_count": 24,
   "metadata": {},
   "outputs": [
    {
     "data": {
      "image/png": "[encoded data removed]",
      "text/plain": [
       "<matplotlib.figure.Figure at 0x1172e9c50>"
      ]
     },
     "metadata": {},
     "output_type": "display_data"
    }
   ],
   "source": [
    "plot_clusters(X_all_species, y_all_species, 7)"
   ]
  },
  {
   "cell_type": "code",
   "execution_count": 25,
   "metadata": {},
   "outputs": [
    {
     "data": {
      "image/png": "[encoded data removed]",
      "text/plain": [
       "<matplotlib.figure.Figure at 0x11692b0b8>"
      ]
     },
     "metadata": {},
     "output_type": "display_data"
    }
   ],
   "source": [
    "plot_clusters(X_all_genus, y_all_genus, 7)"
   ]
  },
  {
   "cell_type": "code",
   "execution_count": 26,
   "metadata": {},
   "outputs": [
    {
     "data": {
      "image/png": "[encoded data removed]",
      "text/plain": [
       "<matplotlib.figure.Figure at 0x117ec1e48>"
      ]
     },
     "metadata": {},
     "output_type": "display_data"
    }
   ],
   "source": [
    "plot_clusters(X_3countries_all, y_3countries_all, 3)"
   ]
  },
  {
   "cell_type": "code",
   "execution_count": 27,
   "metadata": {},
   "outputs": [
    {
     "data": {
      "image/png": "[encoded data removed]",
      "text/plain": [
       "<matplotlib.figure.Figure at 0x117311f28>"
      ]
     },
     "metadata": {},
     "output_type": "display_data"
    }
   ],
   "source": [
    "plot_clusters(X_3countries_species, y_3countries_species, 3)"
   ]
  },
  {
   "cell_type": "code",
   "execution_count": 28,
   "metadata": {},
   "outputs": [
    {
     "data": {
      "image/png": "[encoded data removed]",
      "text/plain": [
       "<matplotlib.figure.Figure at 0x117270be0>"
      ]
     },
     "metadata": {},
     "output_type": "display_data"
    }
   ],
   "source": [
    "plot_clusters(X_3countries_genus, y_3countries_genus, 3)"
   ]
  },
  {
   "cell_type": "markdown",
   "metadata": {},
   "source": [
    "<h2>Random Forest</h2>"
   ]
  },
  {
   "cell_type": "markdown",
   "metadata": {},
   "source": [
    "<h3>Grid Search</h3>"
   ]
  },
  {
   "cell_type": "code",
   "execution_count": 29,
   "metadata": {},
   "outputs": [],
   "source": [
    "def grid_search(X_train, y_train):\n",
    "    param_grid = {\n",
    "    'bootstrap': [True],\n",
    "    'max_depth': [10, 15, 18, 20, 25, 100],\n",
    "    'max_features': ['log2', 50, 100, 0.5, 'auto'],\n",
    "    'n_estimators': [10, 100]\n",
    "    }\n",
    "    rf = RandomForestClassifier(class_weight=\"balanced\", random_state=0)\n",
    "    grid_search = GridSearchCV(estimator = rf, param_grid = param_grid, scoring='accuracy',\n",
    "                          cv = 3, n_jobs = -1, verbose = 0)\n",
    "    grid_search.fit(X_train, y_train)\n",
    "    best_params = grid_search.best_params_\n",
    "    best_score = grid_search.best_score_\n",
    "    best_rf = grid_search.best_estimator_\n",
    "    print(best_params)\n",
    "    print(best_score)\n",
    "    return best_rf"
   ]
  },
  {
   "cell_type": "code",
   "execution_count": 30,
   "metadata": {},
   "outputs": [
    {
     "name": "stdout",
     "output_type": "stream",
     "text": [
      "{'bootstrap': True, 'max_depth': 10, 'max_features': 100, 'n_estimators': 100}\n",
      "0.902325581395\n"
     ]
    }
   ],
   "source": [
    "X_train, X_test, y_train, y_test = train_test_split(X_all_all, y_all_all, test_size=0.33, random_state=42, shuffle=True)\n",
    "best_rf_all = grid_search(X_train, y_train)"
   ]
  },
  {
   "cell_type": "code",
   "execution_count": 31,
   "metadata": {},
   "outputs": [
    {
     "name": "stdout",
     "output_type": "stream",
     "text": [
      "{'bootstrap': True, 'max_depth': 10, 'max_features': 50, 'n_estimators': 100}\n",
      "0.946107784431\n"
     ]
    }
   ],
   "source": [
    "X_train, X_test, y_train, y_test = train_test_split(X_3countries_all, y_3countries_all, test_size=0.33, random_state=42, shuffle=True)\n",
    "best_rf_3countries = grid_search(X_train, y_train)"
   ]
  },
  {
   "cell_type": "markdown",
   "metadata": {},
   "source": [
    "<h3> Random Forest - all 7 cities</h2>"
   ]
  },
  {
   "cell_type": "code",
   "execution_count": 32,
   "metadata": {},
   "outputs": [
    {
     "name": "stdout",
     "output_type": "stream",
     "text": [
      "(0.89506194739839606, 0.88785046728971961, 0.88958092271176381, None)\n",
      "0.895061947398\n",
      "0.88785046729\n",
      "0.889580922712\n"
     ]
    }
   ],
   "source": [
    "X_train, X_test, y_train, y_test = train_test_split(X_all_all, y_all_all, test_size=0.33, random_state=42, shuffle=True)\n",
    "#rf = RandomForestClassifier(class_weight=\"balanced\", max_features=100, max_depth=20, random_state=0)\n",
    "best_rf_all.fit(X_train, y_train) \n",
    "preds = best_rf_all.predict(X_test)\n",
    "print(precision_recall_fscore_support(y_test, preds, average='weighted'))\n",
    "print(precision_score(y_test, preds, average='weighted'))\n",
    "print(accuracy_score(y_test, preds))\n",
    "print(f1_score(y_test, preds, average='weighted'))"
   ]
  },
  {
   "cell_type": "code",
   "execution_count": 33,
   "metadata": {},
   "outputs": [
    {
     "name": "stdout",
     "output_type": "stream",
     "text": [
      "(0.91386764844708768, 0.90654205607476634, 0.90677090150702033, None)\n",
      "0.913867648447\n",
      "0.906542056075\n",
      "0.906770901507\n"
     ]
    }
   ],
   "source": [
    "X_train, X_test, y_train, y_test = train_test_split(X_all_species, y_all_species, test_size=0.33, random_state=42, shuffle=True)\n",
    "#rf = RandomForestClassifier(class_weight=\"balanced\", random_state=0)\n",
    "best_rf_all.fit(X_train, y_train) \n",
    "preds = best_rf_all.predict(X_test)\n",
    "print(precision_recall_fscore_support(y_test, preds, average='weighted'))\n",
    "print(precision_score(y_test, preds, average='weighted'))\n",
    "print(accuracy_score(y_test, preds))\n",
    "print(f1_score(y_test, preds, average='weighted'))"
   ]
  },
  {
   "cell_type": "code",
   "execution_count": 34,
   "metadata": {},
   "outputs": [
    {
     "name": "stdout",
     "output_type": "stream",
     "text": [
      "(0.88284008307372808, 0.87850467289719625, 0.87915623154765543, None)\n",
      "0.882840083074\n",
      "0.878504672897\n",
      "0.879156231548\n"
     ]
    }
   ],
   "source": [
    "X_train, X_test, y_train, y_test = train_test_split(X_all_genus, y_all_genus, test_size=0.33, random_state=42, shuffle=True)\n",
    "#rf = RandomForestClassifier(class_weight=\"balanced\", random_state=0)\n",
    "best_rf_all.fit(X_train, y_train) \n",
    "preds = best_rf_all.predict(X_test)\n",
    "print(precision_recall_fscore_support(y_test, preds, average='weighted'))\n",
    "print(precision_score(y_test, preds, average='weighted'))\n",
    "print(accuracy_score(y_test, preds))\n",
    "print(f1_score(y_test, preds, average='weighted'))"
   ]
  },
  {
   "cell_type": "markdown",
   "metadata": {},
   "source": [
    "<h3>Random Forest - 3 countries</h3>"
   ]
  },
  {
   "cell_type": "code",
   "execution_count": 35,
   "metadata": {},
   "outputs": [
    {
     "name": "stdout",
     "output_type": "stream",
     "text": [
      "(0.96532160387582078, 0.96385542168674698, 0.96400866543332386, None)\n",
      "0.965321603876\n",
      "0.963855421687\n",
      "0.964008665433\n"
     ]
    }
   ],
   "source": [
    "X_train, X_test, y_train, y_test = train_test_split(X_3countries_all, y_3countries_all, test_size=0.33, random_state=42, shuffle=True)\n",
    "#rf = RandomForestClassifier(class_weight=\"balanced\", random_state=0)\n",
    "best_rf_3countries.fit(X_train, y_train) \n",
    "preds = best_rf_3countries.predict(X_test)\n",
    "print(precision_recall_fscore_support(y_test, preds, average='weighted'))\n",
    "print(precision_score(y_test, preds, average='weighted'))\n",
    "print(accuracy_score(y_test, preds))\n",
    "print(f1_score(y_test, preds, average='weighted'))"
   ]
  },
  {
   "cell_type": "code",
   "execution_count": 36,
   "metadata": {},
   "outputs": [
    {
     "name": "stdout",
     "output_type": "stream",
     "text": [
      "(0.98852553069420546, 0.98795180722891562, 0.98798061687207939, None)\n",
      "0.988525530694\n",
      "0.987951807229\n",
      "0.987980616872\n"
     ]
    }
   ],
   "source": [
    "X_train, X_test, y_train, y_test = train_test_split(X_3countries_species, y_3countries_species, test_size=0.33, random_state=42, shuffle=True)\n",
    "#rf = RandomForestClassifier(class_weight=\"balanced\", random_state=0)\n",
    "best_rf_3countries.fit(X_train, y_train) \n",
    "preds = best_rf_3countries.predict(X_test)\n",
    "print(precision_recall_fscore_support(y_test, preds, average='weighted'))\n",
    "print(precision_score(y_test, preds, average='weighted'))\n",
    "print(accuracy_score(y_test, preds))\n",
    "print(f1_score(y_test, preds, average='weighted'))"
   ]
  },
  {
   "cell_type": "code",
   "execution_count": 37,
   "metadata": {},
   "outputs": [
    {
     "name": "stdout",
     "output_type": "stream",
     "text": [
      "(0.96532160387582078, 0.96385542168674698, 0.96400866543332386, None)\n",
      "0.965321603876\n",
      "0.963855421687\n",
      "0.964008665433\n"
     ]
    }
   ],
   "source": [
    "X_train, X_test, y_train, y_test = train_test_split(X_3countries_genus, y_3countries_genus, test_size=0.33, random_state=42, shuffle=True)\n",
    "#rf = RandomForestClassifier(class_weight=\"balanced\", random_state=0)\n",
    "best_rf_3countries.fit(X_train, y_train) \n",
    "preds = best_rf_3countries.predict(X_test)\n",
    "print(precision_recall_fscore_support(y_test, preds, average='weighted'))\n",
    "print(precision_score(y_test, preds, average='weighted'))\n",
    "print(accuracy_score(y_test, preds))\n",
    "print(f1_score(y_test, preds, average='weighted'))"
   ]
  },
  {
   "cell_type": "code",
   "execution_count": null,
   "metadata": {},
   "outputs": [],
   "source": []
  },
  {
   "cell_type": "code",
   "execution_count": null,
   "metadata": {},
   "outputs": [],
   "source": []
  },
  {
   "cell_type": "code",
   "execution_count": null,
   "metadata": {},
   "outputs": [],
   "source": []
  }
 ],
 "metadata": {
  "kernelspec": {
   "display_name": "Python 3",
   "language": "python",
   "name": "python3"
  },
  "language_info": {
   "codemirror_mode": {
    "name": "ipython",
    "version": 3
   },
   "file_extension": ".py",
   "mimetype": "text/x-python",
   "name": "python",
   "nbconvert_exporter": "python",
   "pygments_lexer": "ipython3",
   "version": "3.6.5"
  }
 },
 "nbformat": 4,
 "nbformat_minor": 2
}
